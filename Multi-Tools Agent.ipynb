{
 "cells": [
  {
   "cell_type": "code",
   "execution_count": 1,
   "id": "3e0aa434-265a-47cf-83a0-fcaface0b4db",
   "metadata": {},
   "outputs": [],
   "source": [
    "from langchain.vectorstores import Chroma\n",
    "from langchain.text_splitter import RecursiveCharacterTextSplitter\n",
    "from langchain.document_loaders import PyPDFLoader\n",
    "from langchain.memory import ConversationBufferMemory\n",
    "from langchain.chains import ConversationalRetrievalChain"
   ]
  },
  {
   "cell_type": "code",
   "execution_count": 2,
   "id": "34d180d0-7287-400d-84b2-7e9d89443618",
   "metadata": {},
   "outputs": [],
   "source": [
    "from langchain_openai import OpenAIEmbeddings\n",
    "from langchain_openai import OpenAI"
   ]
  },
  {
   "cell_type": "code",
   "execution_count": 3,
   "id": "ac533f6a-1a69-4e50-a0a1-f2451f27501f",
   "metadata": {},
   "outputs": [
    {
     "data": {
      "text/plain": [
       "True"
      ]
     },
     "execution_count": 3,
     "metadata": {},
     "output_type": "execute_result"
    }
   ],
   "source": [
    "from dotenv import load_dotenv\n",
    "load_dotenv()"
   ]
  },
  {
   "cell_type": "markdown",
   "id": "ba776748-05f4-48c8-98bb-00f3a96b9881",
   "metadata": {},
   "source": [
    "### Ingest SIA Annual Report 2023 PDF"
   ]
  },
  {
   "cell_type": "code",
   "execution_count": 4,
   "id": "04ec5f8f-a5e4-4392-a114-1f6f73d56c80",
   "metadata": {},
   "outputs": [],
   "source": [
    "docs = PyPDFLoader('./SIA_Annual_Report_2023.pdf').load()\n",
    "text_splitter = RecursiveCharacterTextSplitter(chunk_size=1000)\n",
    "docs = text_splitter.split_documents(docs)"
   ]
  },
  {
   "cell_type": "markdown",
   "id": "f5dbc2cb-392e-43a8-9248-aa46609170fd",
   "metadata": {},
   "source": [
    "### Generate Embeddings and store in Chroma Vector Store (Local)"
   ]
  },
  {
   "cell_type": "code",
   "execution_count": 18,
   "id": "ee029fa7-5fa3-4ecd-b80d-76f26071c2dd",
   "metadata": {
    "scrolled": true
   },
   "outputs": [],
   "source": [
    "vectorstore = Chroma(\n",
    "    collection_name=\"full_documents\",\n",
    "    embedding_function=OpenAIEmbeddings()\n",
    ")\n",
    "vectorstore.add_documents(docs[:500]);"
   ]
  },
  {
   "cell_type": "markdown",
   "id": "07688f7b-a442-4e38-b91f-6af03fcf4953",
   "metadata": {},
   "source": [
    "### Create QA Bot based on the Vector Store"
   ]
  },
  {
   "cell_type": "code",
   "execution_count": 19,
   "id": "6450db32-4dc4-4ecc-ae9c-86190e04616b",
   "metadata": {},
   "outputs": [],
   "source": [
    "qa = ConversationalRetrievalChain.from_llm(\n",
    "    OpenAI(temperature=0),\n",
    "    vectorstore.as_retriever(),\n",
    "    memory=ConversationBufferMemory(memory_key=\"chat_history\", return_messages=True)\n",
    ")"
   ]
  },
  {
   "cell_type": "code",
   "execution_count": 20,
   "id": "2d288be8-e0a8-417c-ae92-bee2d54e026a",
   "metadata": {},
   "outputs": [
    {
     "name": "stdout",
     "output_type": "stream",
     "text": [
      " Singapore Airlines is dedicated to providing high-quality air transportation services and maximizing returns for shareholders and employees.\n"
     ]
    }
   ],
   "source": [
    "# Test the QA chain\n",
    "result = qa.invoke(({\"question\": \"What is SIA Mission Statement?\"}))\n",
    "print(result['answer'])"
   ]
  },
  {
   "cell_type": "code",
   "execution_count": 21,
   "id": "801b61d8-f9b9-4312-b428-6a6b8a0fd34d",
   "metadata": {},
   "outputs": [],
   "source": [
    "from langchain.agents import (load_tools, initialize_agent)\n",
    "from langchain.agents import Tool"
   ]
  },
  {
   "cell_type": "markdown",
   "id": "7a6035d6-a317-4bed-872a-a96a38a29dfc",
   "metadata": {},
   "source": [
    "### Create a tool based on the QA Bot and give it a description\n",
    "#### *** Description is important as it is how the agent decide which tool to use based on the question"
   ]
  },
  {
   "cell_type": "code",
   "execution_count": 22,
   "id": "4078aedd-24cf-406f-978f-7c95c76041d1",
   "metadata": {},
   "outputs": [],
   "source": [
    "sia_qa_tool = Tool(\n",
    "    name=\"SIA QA System\",\n",
    "    func=qa.run,\n",
    "    description=\"Provides responses to the questions about Singapore Airlines (SIA), financial performance and report for 2022/2024 and its future plans\",\n",
    "    return_direct=True\n",
    ")"
   ]
  },
  {
   "cell_type": "markdown",
   "id": "139bdb09-aa26-4e18-bbc0-ca723bafa829",
   "metadata": {},
   "source": [
    "#### Load tools serpapi (google search) and our SIA QA Tool/Bot"
   ]
  },
  {
   "cell_type": "code",
   "execution_count": 23,
   "id": "0cd5d21f-1f6d-415c-ab17-2e2ee0e5c72f",
   "metadata": {},
   "outputs": [],
   "source": [
    "tools = load_tools([\"serpapi\"]) + [sia_qa_tool]"
   ]
  },
  {
   "cell_type": "markdown",
   "id": "58478860-8e82-4e1a-9673-a4acdc13db6c",
   "metadata": {},
   "source": [
    "#### Here you can see serpapi(google search) tool's description"
   ]
  },
  {
   "cell_type": "code",
   "execution_count": 24,
   "id": "aea17d4f-0664-4f3c-b952-51a92fcba639",
   "metadata": {},
   "outputs": [
    {
     "data": {
      "text/plain": [
       "'A search engine. Useful for when you need to answer questions about current events. Input should be a search query.'"
      ]
     },
     "execution_count": 24,
     "metadata": {},
     "output_type": "execute_result"
    }
   ],
   "source": [
    "tools[0].description"
   ]
  },
  {
   "cell_type": "markdown",
   "id": "a4d45f2f-b8f8-4bae-ad14-bd151fd253a6",
   "metadata": {},
   "source": [
    "#### Create Agent with the Tools and LLM (OpenAI GPT)"
   ]
  },
  {
   "cell_type": "code",
   "execution_count": 25,
   "id": "9cd25bba-76b9-46e5-89ed-aba21279123c",
   "metadata": {},
   "outputs": [
    {
     "name": "stderr",
     "output_type": "stream",
     "text": [
      "/Users/weishen/opt/anaconda3/envs/myenv/lib/python3.11/site-packages/langchain_core/_api/deprecation.py:117: LangChainDeprecationWarning: The function `initialize_agent` was deprecated in LangChain 0.1.0 and will be removed in 0.2.0. Use Use new agent constructor methods like create_react_agent, create_json_agent, create_structured_chat_agent, etc. instead.\n",
      "  warn_deprecated(\n"
     ]
    }
   ],
   "source": [
    "agent = initialize_agent(tools, OpenAI(temperature=0), agent=\"zero-shot-react-description\", verbose=True, return_intermediate_steps=True)"
   ]
  },
  {
   "cell_type": "markdown",
   "id": "18a203aa-5bce-4d01-bd7a-d99c5c0522a3",
   "metadata": {},
   "source": [
    "#### Test out the Agent by giving it some questions"
   ]
  },
  {
   "cell_type": "code",
   "execution_count": 26,
   "id": "a57b13bc-4d26-4734-a68d-3b7839f2284f",
   "metadata": {
    "scrolled": true
   },
   "outputs": [
    {
     "name": "stdout",
     "output_type": "stream",
     "text": [
      "\n",
      "\n",
      "\u001b[1m> Entering new AgentExecutor chain...\u001b[0m\n",
      "\u001b[32;1m\u001b[1;3m I should use the SIA QA System to get accurate information about SIA's financial performance.\n",
      "Action: SIA QA System\n",
      "Action Input: SIA financial performance 2022/2023\u001b[0m\n",
      "Observation: \u001b[33;1m\u001b[1;3m The projected financial performance of SIA for 2022/2023 includes a record passenger carriage of more than 26 million, a capacity of 79%, and record revenues, operating profits, and net profits of $17,775 million, $2,692 million, and $2,157 million, respectively. The Board of Directors also recommends a final dividend of 28 cents per share for the financial year.\u001b[0m\n",
      "\u001b[32;1m\u001b[1;3m\u001b[0m\n",
      "\n",
      "\u001b[1m> Finished chain.\u001b[0m\n"
     ]
    },
    {
     "data": {
      "text/plain": [
       "' The projected financial performance of SIA for 2022/2023 includes a record passenger carriage of more than 26 million, a capacity of 79%, and record revenues, operating profits, and net profits of $17,775 million, $2,692 million, and $2,157 million, respectively. The Board of Directors also recommends a final dividend of 28 cents per share for the financial year.'"
      ]
     },
     "execution_count": 26,
     "metadata": {},
     "output_type": "execute_result"
    }
   ],
   "source": [
    "sia_qa_result  = agent.invoke(\"How is SIA financial performance in 2022/2023?\")\n",
    "sia_qa_result['output'] # Should get the answer from the SIA QA Tool"
   ]
  },
  {
   "cell_type": "code",
   "execution_count": 27,
   "id": "9ca54eb0-215c-4918-bfc0-f56c521f84e2",
   "metadata": {
    "scrolled": true
   },
   "outputs": [
    {
     "name": "stdout",
     "output_type": "stream",
     "text": [
      "\n",
      "\n",
      "\u001b[1m> Entering new AgentExecutor chain...\u001b[0m\n",
      "\u001b[32;1m\u001b[1;3m I should use the search engine to find the current weather in Singapore.\n",
      "Action: Search\n",
      "Action Input: \"weather in Singapore in celsius\"\u001b[0m\n",
      "Observation: \u001b[36;1m\u001b[1;3m{'type': 'weather_result', 'temperature': '28', 'unit': 'Celsius', 'precipitation': '4%', 'humidity': '80%', 'wind': '8 km/h', 'location': 'Singapore', 'date': 'Tuesday 1:00 AM', 'weather': 'Mostly cloudy'}\u001b[0m\n",
      "Thought:\u001b[32;1m\u001b[1;3m I should check the date and time of the weather report to ensure it is current.\n",
      "Action: Search\n",
      "Action Input: \"weather in Singapore in celsius\"\u001b[0m\n",
      "Observation: \u001b[36;1m\u001b[1;3m{'type': 'weather_result', 'temperature': '28', 'unit': 'Celsius', 'precipitation': '4%', 'humidity': '80%', 'wind': '8 km/h', 'location': 'Singapore', 'date': 'Tuesday 1:00 AM', 'weather': 'Mostly cloudy'}\u001b[0m\n",
      "Thought:\u001b[32;1m\u001b[1;3m I now know the final answer.\n",
      "Final Answer: The current weather in Singapore is mostly cloudy with a temperature of 28 degrees Celsius.\u001b[0m\n",
      "\n",
      "\u001b[1m> Finished chain.\u001b[0m\n"
     ]
    },
    {
     "data": {
      "text/plain": [
       "'The current weather in Singapore is mostly cloudy with a temperature of 28 degrees Celsius.'"
      ]
     },
     "execution_count": 27,
     "metadata": {},
     "output_type": "execute_result"
    }
   ],
   "source": [
    "weather_qa_result  = agent.invoke(\"how is the weather in singapore today in celsius?\")\n",
    "weather_qa_result['output'] # Should get the answer from the Google-search Tool"
   ]
  },
  {
   "cell_type": "code",
   "execution_count": null,
   "id": "a6184873-a22b-42f1-abca-46250003b442",
   "metadata": {},
   "outputs": [],
   "source": []
  }
 ],
 "metadata": {
  "kernelspec": {
   "display_name": "Python 3 (ipykernel)",
   "language": "python",
   "name": "python3"
  },
  "language_info": {
   "codemirror_mode": {
    "name": "ipython",
    "version": 3
   },
   "file_extension": ".py",
   "mimetype": "text/x-python",
   "name": "python",
   "nbconvert_exporter": "python",
   "pygments_lexer": "ipython3",
   "version": "3.11.5"
  }
 },
 "nbformat": 4,
 "nbformat_minor": 5
}
